{
 "cells": [
  {
   "cell_type": "code",
   "execution_count": 1,
   "metadata": {
    "colab": {
     "base_uri": "https://localhost:8080/"
    },
    "id": "wmf6T3z0YA3h",
    "outputId": "b6b07ecd-41e3-4586-cc79-31c5d0639187"
   },
   "outputs": [],
   "source": [
    "#!pip install portalocker==2.8.2"
   ]
  },
  {
   "cell_type": "code",
   "execution_count": 1,
   "metadata": {
    "id": "UVt4ZQ3LX98k"
   },
   "outputs": [],
   "source": [
    "import torch\n",
    "import torchtext\n",
    "import random\n",
    "from torchtext.datasets import IMDB\n",
    "from torchtext.data.utils import get_tokenizer\n",
    "from collections import Counter\n",
    "from torchtext.vocab import vocab\n",
    "from collections import Counter, OrderedDict\n",
    "from torchtext.vocab import build_vocab_from_iterator\n",
    "from torch.utils.data import DataLoader\n",
    "from torch.nn.utils.rnn import pad_sequence"
   ]
  },
  {
   "cell_type": "code",
   "execution_count": 2,
   "metadata": {
    "id": "_JDJq5-kX935"
   },
   "outputs": [
    {
     "name": "stdout",
     "output_type": "stream",
     "text": [
      "The index of '<PAD>' is 0\n"
     ]
    }
   ],
   "source": [
    "train_iter = IMDB(split='train')\n",
    "tokenizer = get_tokenizer('spacy', language='en_core_web_sm')\n",
    "\n",
    "def yield_tokens_batch(train_iter):\n",
    "    for (label, line) in train_iter:\n",
    "      yield tokenizer(line)\n",
    "\n",
    "# CHANGED\n",
    "MAX_VOCAB_SIZE = 25000\n",
    "#voc = build_vocab_from_iterator(yield_tokens_batch(train_iter), min_freq =3, specials=[\"<PAD>\",\"<unk>\"])\n",
    "voc = build_vocab_from_iterator(yield_tokens_batch(train_iter), max_tokens=MAX_VOCAB_SIZE, specials=[\"<PAD>\",\"<unk>\"])\n",
    "voc.set_default_index(voc['<unk>'])\n",
    "# CHANGED\n",
    "new_stoi = voc.get_stoi()\n",
    "PAD_IDX = new_stoi['<PAD>']\n",
    "print(\"The index of '<PAD>' is\", PAD_IDX)\n",
    "#label_transform = lambda x: 1 if x == 'pos' else 0\n",
    "label_transform = lambda x: 1 if x == 2 else 0\n",
    "text_transform = lambda x: [voc[token] for token in tokenizer(x)]"
   ]
  },
  {
   "cell_type": "code",
   "execution_count": 3,
   "metadata": {
    "id": "FjujtUy5X90o"
   },
   "outputs": [],
   "source": [
    "import numpy as np\n",
    "train_iter = IMDB(split='train')\n",
    "test_iter = IMDB(split='test')\n",
    "train_list = list(train_iter)\n",
    "random.shuffle(train_list)\n",
    "\n",
    "dev_list = train_list[:7500]\n",
    "devfile = open(\"dev.txt\", \"w\")\n",
    "for element in dev_list:\n",
    "    devfile.write(str(element[1]) + str(element[0])+\"\\n\")\n",
    "devfile.close()\n",
    "\n",
    "test_list = list(test_iter)\n",
    "testfile = open(\"test.txt\", \"w\")\n",
    "for element in test_list:\n",
    "    testfile.write(str(element[1])+ str(element[0]) + \"\\n\")\n",
    "testfile.close()\n",
    "\n",
    "train_list = train_list[7500:]"
   ]
  },
  {
   "cell_type": "code",
   "execution_count": 4,
   "metadata": {},
   "outputs": [
    {
     "name": "stdout",
     "output_type": "stream",
     "text": [
      "%ge Positive reviews in validation dataset =  50.17333333333333\n"
     ]
    }
   ],
   "source": [
    "count_pos = 0\n",
    "for label, line in dev_list:\n",
    "    #print(f\"Label: {label}\")\n",
    "    #print(f\"Line: '{line}'\")\n",
    "    if label == 2:\n",
    "        count_pos = count_pos + 1\n",
    "print(\"%ge Positive reviews in validation dataset = \", count_pos * 100 / len(dev_list))"
   ]
  },
  {
   "cell_type": "code",
   "execution_count": 5,
   "metadata": {
    "id": "-VawXGmNZVEZ"
   },
   "outputs": [],
   "source": [
    "def collate_batch(batch):\n",
    "   label_list, text_list = [], []\n",
    "   max_len = 50\n",
    "   for (_label, _text) in batch:\n",
    "        # CHANGED\n",
    "        label_list.append(label_transform(_label))\n",
    "        #label_list.append(_label)\n",
    "        processed_text = torch.LongTensor(text_transform(_text))\n",
    "        #processed_text = nn.ConstantPad1d((0, max_len - processed_text.shape[0]), 0)(processed_text)\n",
    "        text_list.append(processed_text)\n",
    "\n",
    "   # CHANGED\n",
    "   PAD_IDX = 0\n",
    "   return   pad_sequence(text_list, padding_value=PAD_IDX),torch.LongTensor(label_list)"
   ]
  },
  {
   "cell_type": "code",
   "execution_count": 6,
   "metadata": {
    "colab": {
     "base_uri": "https://localhost:8080/"
    },
    "id": "aLQzwOAcX9p9",
    "outputId": "90bfc596-dc72-42b4-95ff-af9a37212c11"
   },
   "outputs": [
    {
     "name": "stdout",
     "output_type": "stream",
     "text": [
      "Number of training examples: 3500\n",
      "Number of dev examples: 1500\n",
      "Number of test examples: 5000\n"
     ]
    }
   ],
   "source": [
    "#batch_size = 2\n",
    "batch_size = 5\n",
    "\n",
    "train_iterator = DataLoader(train_list, batch_size, shuffle=True,\n",
    "                              collate_fn=collate_batch, drop_last=True)\n",
    "valid_iterator = DataLoader(dev_list, batch_size, shuffle=False,\n",
    "                              collate_fn=collate_batch, drop_last=True)\n",
    "test_iterator = DataLoader(test_list, batch_size, shuffle=False,\n",
    "                              collate_fn=collate_batch, drop_last=True)\n",
    "print(f'Number of training examples: {len(train_iterator)}')\n",
    "print(f'Number of dev examples: {len(valid_iterator)}')\n",
    "print(f'Number of test examples: {len(test_iterator)}')"
   ]
  },
  {
   "cell_type": "code",
   "execution_count": 7,
   "metadata": {
    "colab": {
     "base_uri": "https://localhost:8080/"
    },
    "id": "t11Y-KsiX9hM",
    "outputId": "db0a5b8b-5f9a-474e-a539-7c6d0932e30d"
   },
   "outputs": [
    {
     "name": "stdout",
     "output_type": "stream",
     "text": [
      "GPU not available, CPU used\n"
     ]
    }
   ],
   "source": [
    "is_cuda = torch.cuda.is_available()\n",
    "\n",
    "# If we have a GPU available, we'll set our device to GPU. We'll use this device variable later in our code.\n",
    "if is_cuda:\n",
    "    device = torch.device(\"cuda\")\n",
    "    print(\"GPU is available\")\n",
    "else:\n",
    "    device = torch.device(\"cpu\")\n",
    "    print(\"GPU not available, CPU used\")"
   ]
  },
  {
   "cell_type": "code",
   "execution_count": 8,
   "metadata": {
    "id": "nI_gFLUXCEdY"
   },
   "outputs": [],
   "source": [
    "import torch.nn as nn\n",
    "class LR(nn.Module):\n",
    "    def __init__(self, input_dim, embedding_dim, output_dim, padding_idx):\n",
    "        super().__init__()\n",
    "        self.embedding = nn.Embedding(input_dim, embedding_dim, padding_idx=padding_idx)\n",
    "        self.fc = nn.Linear(embedding_dim, output_dim)\n",
    "    def forward(self, text):\n",
    "        embedded = self.embedding(text).squeeze().sum(0)\n",
    "        return self.fc(embedded)"
   ]
  },
  {
   "cell_type": "code",
   "execution_count": 9,
   "metadata": {
    "id": "-lZ2obDVDmEl"
   },
   "outputs": [],
   "source": [
    "INPUT_DIM = voc.__len__()\n",
    "EMBEDDING_DIM = 100\n",
    "# CHANGED\n",
    "#HIDDEN_DIM = 256\n",
    "OUTPUT_DIM = 1\n",
    "PAD_IDX = voc.__getitem__('<PAD>')\n",
    "model = LR(INPUT_DIM, EMBEDDING_DIM, OUTPUT_DIM,PAD_IDX)"
   ]
  },
  {
   "cell_type": "code",
   "execution_count": 10,
   "metadata": {
    "colab": {
     "base_uri": "https://localhost:8080/"
    },
    "id": "eJ6_rLRuK2l7",
    "outputId": "fa2abbcb-fba6-4ddd-8d6b-5d85a03ae092"
   },
   "outputs": [
    {
     "name": "stdout",
     "output_type": "stream",
     "text": [
      "The model has 2,500,101 trainable parameters\n"
     ]
    }
   ],
   "source": [
    "def count_parameters(model):\n",
    "    return sum(p.numel() for p in model.parameters() if p.requires_grad)\n",
    "\n",
    "print(f'The model has {count_parameters(model):,} trainable parameters')"
   ]
  },
  {
   "cell_type": "code",
   "execution_count": 11,
   "metadata": {
    "id": "IbufnJzvLAlf"
   },
   "outputs": [],
   "source": [
    "import torch.optim as optim\n",
    "\n",
    "optimizer = optim.SGD(model.parameters(), lr=1e-6)"
   ]
  },
  {
   "cell_type": "code",
   "execution_count": 12,
   "metadata": {
    "id": "I1fHORT8LBOK"
   },
   "outputs": [],
   "source": [
    "criterion = nn.BCEWithLogitsLoss()"
   ]
  },
  {
   "cell_type": "code",
   "execution_count": 13,
   "metadata": {
    "id": "z3gdBHHULC7y"
   },
   "outputs": [],
   "source": [
    "model = model.to(device)\n",
    "criterion = criterion.to(device)"
   ]
  },
  {
   "cell_type": "code",
   "execution_count": 14,
   "metadata": {
    "id": "KF2EdETnLEwt"
   },
   "outputs": [],
   "source": [
    "def binary_accuracy(preds, y):\n",
    "    \"\"\"\n",
    "    Returns accuracy per batch, i.e. if you get 8/10 right, this returns 0.8, NOT 8\n",
    "    \"\"\"\n",
    "\n",
    "    #round predictions to the closest integer\n",
    "    rounded_preds = torch.round(torch.sigmoid(preds))\n",
    "    correct = (rounded_preds == y).float() #convert into float for division\n",
    "    acc = correct.sum() / len(correct)\n",
    "    return acc"
   ]
  },
  {
   "cell_type": "code",
   "execution_count": 15,
   "metadata": {
    "id": "2o9l76H5LGm9"
   },
   "outputs": [],
   "source": [
    "from tqdm import tqdm\n",
    "def train(model, iterator, optimizer, criterion):\n",
    "\n",
    "    epoch_loss = 0\n",
    "    epoch_acc = 0\n",
    "\n",
    "    model.train()\n",
    "\n",
    "    for inputs, labels in iterator:\n",
    "\n",
    "        optimizer.zero_grad()\n",
    "\n",
    "        predictions = model(inputs.to(device)).squeeze(1).to(device)\n",
    "\n",
    "        loss = criterion(predictions,labels.float().to(device)).to(device)\n",
    "\n",
    "        acc = binary_accuracy(predictions, labels.float().to(device))\n",
    "\n",
    "        loss.backward()\n",
    "\n",
    "        optimizer.step()\n",
    "\n",
    "        epoch_loss += loss.item()\n",
    "        epoch_acc += acc.item()\n",
    "\n",
    "    return epoch_loss / len(iterator), epoch_acc / len(iterator)"
   ]
  },
  {
   "cell_type": "code",
   "execution_count": 16,
   "metadata": {
    "id": "bBwRhOrzLKSH"
   },
   "outputs": [],
   "source": [
    "def evaluate(model, iterator, criterion):\n",
    "\n",
    "    epoch_loss = 0\n",
    "    epoch_acc = 0\n",
    "\n",
    "    model.eval()\n",
    "\n",
    "    with torch.no_grad():\n",
    "        for  inputs, labels in iterator:\n",
    "\n",
    "            predictions = model(inputs.to(device)).squeeze(1).to(device)\n",
    "\n",
    "            loss = criterion(predictions,labels.float().to(device)).to(device)\n",
    "\n",
    "            acc = binary_accuracy(predictions, labels.float().to(device))\n",
    "\n",
    "            epoch_loss += loss.item()\n",
    "            epoch_acc += acc.item()\n",
    "\n",
    "    return epoch_loss / len(iterator), epoch_acc / len(iterator)"
   ]
  },
  {
   "cell_type": "code",
   "execution_count": 17,
   "metadata": {
    "id": "FOHkN5P5LMtl"
   },
   "outputs": [],
   "source": [
    "import time\n",
    "\n",
    "def epoch_time(start_time, end_time):\n",
    "    elapsed_time = end_time - start_time\n",
    "    elapsed_mins = int(elapsed_time / 60)\n",
    "    elapsed_secs = int(elapsed_time - (elapsed_mins * 60))\n",
    "    return elapsed_mins, elapsed_secs"
   ]
  },
  {
   "cell_type": "code",
   "execution_count": 18,
   "metadata": {
    "colab": {
     "base_uri": "https://localhost:8080/"
    },
    "id": "63EPftxxLOxH",
    "outputId": "8ad87999-d3fe-4403-8526-b9b56549da97"
   },
   "outputs": [
    {
     "name": "stdout",
     "output_type": "stream",
     "text": [
      "Epoch: 01 | Epoch Time: 0m 15s\n",
      "\tTrain Loss: 4.608 | Train Acc: 51.89%\n",
      "\t Val. Loss: 4.167 |  Val. Acc: 52.33%\n",
      "Epoch: 02 | Epoch Time: 0m 14s\n",
      "\tTrain Loss: 4.112 | Train Acc: 52.31%\n",
      "\t Val. Loss: 3.751 |  Val. Acc: 53.05%\n",
      "Epoch: 03 | Epoch Time: 0m 15s\n",
      "\tTrain Loss: 3.719 | Train Acc: 52.86%\n",
      "\t Val. Loss: 3.392 |  Val. Acc: 53.65%\n",
      "Epoch: 04 | Epoch Time: 0m 15s\n",
      "\tTrain Loss: 3.388 | Train Acc: 53.49%\n",
      "\t Val. Loss: 3.098 |  Val. Acc: 54.07%\n",
      "Epoch: 05 | Epoch Time: 0m 15s\n",
      "\tTrain Loss: 3.105 | Train Acc: 54.10%\n",
      "\t Val. Loss: 2.846 |  Val. Acc: 54.63%\n"
     ]
    }
   ],
   "source": [
    "N_EPOCHS = 5\n",
    "\n",
    "best_valid_loss = float('inf')\n",
    "\n",
    "for epoch in range(N_EPOCHS):\n",
    "\n",
    "    start_time = time.time()\n",
    "\n",
    "    train_loss, train_acc = train(model, train_iterator, optimizer, criterion)\n",
    "    valid_loss, valid_acc = evaluate(model, valid_iterator, criterion)\n",
    "\n",
    "    end_time = time.time()\n",
    "\n",
    "    epoch_mins, epoch_secs = epoch_time(start_time, end_time)\n",
    "\n",
    "    if valid_loss < best_valid_loss:\n",
    "        best_valid_loss = valid_loss\n",
    "        torch.save(model.state_dict(), 'tut1-model.pt')\n",
    "\n",
    "    print(f'Epoch: {epoch+1:02} | Epoch Time: {epoch_mins}m {epoch_secs}s')\n",
    "    print(f'\\tTrain Loss: {train_loss:.3f} | Train Acc: {train_acc*100:.2f}%')\n",
    "    print(f'\\t Val. Loss: {valid_loss:.3f} |  Val. Acc: {valid_acc*100:.2f}%')"
   ]
  },
  {
   "cell_type": "code",
   "execution_count": 19,
   "metadata": {
    "colab": {
     "base_uri": "https://localhost:8080/"
    },
    "id": "s2vQBjeTLTTv",
    "outputId": "e1ccad7a-bfb5-40c5-c069-af4075797688"
   },
   "outputs": [
    {
     "name": "stdout",
     "output_type": "stream",
     "text": [
      "Test Loss: 2.839 | Test Acc: 54.16%\n"
     ]
    }
   ],
   "source": [
    "model.load_state_dict(torch.load('tut1-model.pt'))\n",
    "\n",
    "test_loss, test_acc = evaluate(model, test_iterator, criterion)\n",
    "\n",
    "print(f'Test Loss: {test_loss:.3f} | Test Acc: {test_acc*100:.2f}%')"
   ]
  },
  {
   "cell_type": "code",
   "execution_count": 20,
   "metadata": {
    "colab": {
     "base_uri": "https://localhost:8080/"
    },
    "id": "Ev4idwpONzs9",
    "outputId": "ab8de18e-d7de-4ab7-9d37-718ef401d3a1"
   },
   "outputs": [
    {
     "name": "stdout",
     "output_type": "stream",
     "text": [
      "tensor([[-3.3263],\n",
      "        [-8.7919],\n",
      "        [ 2.2856],\n",
      "        [-0.9200],\n",
      "        [-4.6624]], grad_fn=<AddmmBackward0>)\n",
      "tensor([[-1.3006],\n",
      "        [-5.1110],\n",
      "        [-1.9126],\n",
      "        [ 7.6993],\n",
      "        [ 7.5721]], grad_fn=<AddmmBackward0>)\n",
      "tensor([[ -6.1139],\n",
      "        [  2.5826],\n",
      "        [  3.1684],\n",
      "        [-21.5025],\n",
      "        [  6.1800]], grad_fn=<AddmmBackward0>)\n",
      "tensor([[  0.0962],\n",
      "        [ -0.1970],\n",
      "        [ -7.7068],\n",
      "        [-11.7926],\n",
      "        [  6.8536]], grad_fn=<AddmmBackward0>)\n",
      "tensor([[-5.6539],\n",
      "        [-7.1100],\n",
      "        [-3.3802],\n",
      "        [ 9.2038],\n",
      "        [11.5038]], grad_fn=<AddmmBackward0>)\n"
     ]
    }
   ],
   "source": [
    "# Test of model correctness\n",
    "max_n_test_instances = 5\n",
    "i = 1\n",
    "for  inputs, labels in valid_iterator:\n",
    "  score = model(inputs.to(device))\n",
    "  print(score)\n",
    "  if i >= max_n_test_instances:\n",
    "    break\n",
    "  else:\n",
    "    i += 1\n"
   ]
  },
  {
   "cell_type": "code",
   "execution_count": null,
   "metadata": {},
   "outputs": [],
   "source": []
  }
 ],
 "metadata": {
  "accelerator": "GPU",
  "colab": {
   "gpuType": "T4",
   "provenance": []
  },
  "kernelspec": {
   "display_name": "Python 3 (ipykernel)",
   "language": "python",
   "name": "python3"
  },
  "language_info": {
   "codemirror_mode": {
    "name": "ipython",
    "version": 3
   },
   "file_extension": ".py",
   "mimetype": "text/x-python",
   "name": "python",
   "nbconvert_exporter": "python",
   "pygments_lexer": "ipython3",
   "version": "3.9.18"
  }
 },
 "nbformat": 4,
 "nbformat_minor": 4
}
