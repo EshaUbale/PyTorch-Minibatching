{
 "cells": [
  {
   "cell_type": "code",
   "execution_count": 1,
   "metadata": {
    "colab": {
     "base_uri": "https://localhost:8080/"
    },
    "id": "wmf6T3z0YA3h",
    "outputId": "b6b07ecd-41e3-4586-cc79-31c5d0639187"
   },
   "outputs": [],
   "source": [
    "#!pip install portalocker==2.8.2"
   ]
  },
  {
   "cell_type": "code",
   "execution_count": 2,
   "metadata": {
    "id": "UVt4ZQ3LX98k"
   },
   "outputs": [
    {
     "name": "stderr",
     "output_type": "stream",
     "text": [
      "/Users/himanshu/venv39/lib/python3.9/site-packages/urllib3/__init__.py:34: NotOpenSSLWarning: urllib3 v2 only supports OpenSSL 1.1.1+, currently the 'ssl' module is compiled with 'LibreSSL 2.8.3'. See: https://github.com/urllib3/urllib3/issues/3020\n",
      "  warnings.warn(\n"
     ]
    }
   ],
   "source": [
    "import torch\n",
    "import torchtext\n",
    "import random\n",
    "from torchtext.datasets import IMDB\n",
    "from torchtext.data.utils import get_tokenizer\n",
    "from collections import Counter\n",
    "from torchtext.vocab import vocab\n",
    "from collections import Counter, OrderedDict\n",
    "from torchtext.vocab import build_vocab_from_iterator\n",
    "from torch.utils.data import DataLoader\n",
    "from torch.nn.utils.rnn import pad_sequence\n",
    "import torch.nn as nn\n",
    "import torch.optim as optim\n",
    "import collections\n"
   ]
  },
  {
   "cell_type": "code",
   "execution_count": 3,
   "metadata": {
    "id": "_JDJq5-kX935"
   },
   "outputs": [
    {
     "name": "stdout",
     "output_type": "stream",
     "text": [
      "The index of '<PAD>' is 0\n"
     ]
    }
   ],
   "source": [
    "train_iter = IMDB(split='train')\n",
    "tokenizer = get_tokenizer('spacy', language='en_core_web_sm')\n",
    "\n",
    "def yield_tokens_batch(train_iter):\n",
    "    for (label, line) in train_iter:\n",
    "      yield tokenizer(line)\n",
    "\n",
    "# CHANGED\n",
    "MAX_VOCAB_SIZE = 25000\n",
    "#voc = build_vocab_from_iterator(yield_tokens_batch(train_iter), min_freq =3, specials=[\"<PAD>\",\"<unk>\"])\n",
    "voc = build_vocab_from_iterator(yield_tokens_batch(train_iter), max_tokens=MAX_VOCAB_SIZE, specials=[\"<PAD>\",\"<unk>\"])\n",
    "voc.set_default_index(voc['<unk>'])\n",
    "# CHANGED\n",
    "new_stoi = voc.get_stoi()\n",
    "PAD_IDX = new_stoi['<PAD>']\n",
    "print(\"The index of '<PAD>' is\", PAD_IDX)\n",
    "#label_transform = lambda x: 1 if x == 'pos' else 0\n",
    "label_transform = lambda x: 1 if x == 2 else 0\n",
    "text_transform = lambda x: [voc[token] for token in tokenizer(x)]"
   ]
  },
  {
   "cell_type": "code",
   "execution_count": 4,
   "metadata": {
    "id": "FjujtUy5X90o"
   },
   "outputs": [],
   "source": [
    "import numpy as np\n",
    "train_iter = IMDB(split='train')\n",
    "test_iter = IMDB(split='test')\n",
    "train_list = list(train_iter)\n",
    "random.shuffle(train_list)\n",
    "\n",
    "dev_list = train_list[:7500]\n",
    "devfile = open(\"dev.txt\", \"w\")\n",
    "for element in dev_list:\n",
    "    devfile.write(str(element[1]) + str(element[0])+\"\\n\")\n",
    "devfile.close()\n",
    "\n",
    "test_list = list(test_iter)\n",
    "testfile = open(\"test.txt\", \"w\")\n",
    "for element in test_list:\n",
    "    testfile.write(str(element[1])+ str(element[0]) + \"\\n\")\n",
    "testfile.close()\n",
    "\n",
    "train_list = train_list[7500:]"
   ]
  },
  {
   "cell_type": "code",
   "execution_count": 5,
   "metadata": {},
   "outputs": [
    {
     "name": "stdout",
     "output_type": "stream",
     "text": [
      "%ge Positive reviews in validation dataset =  50.0\n"
     ]
    }
   ],
   "source": [
    "count_pos = 0\n",
    "for label, line in dev_list:\n",
    "    #print(f\"Label: {label}\")\n",
    "    #print(f\"Line: '{line}'\")\n",
    "    if label == 2:\n",
    "        count_pos = count_pos + 1\n",
    "print(\"%ge Positive reviews in validation dataset = \", count_pos * 100 / len(dev_list))"
   ]
  },
  {
   "cell_type": "code",
   "execution_count": 6,
   "metadata": {
    "id": "-VawXGmNZVEZ"
   },
   "outputs": [],
   "source": [
    "def collate_batch(batch):\n",
    "   label_list, text_list, length_list = [], [], []\n",
    "   max_len = 50\n",
    "   for (_label, _text) in batch:\n",
    "        # CHANGED\n",
    "        label_list.append(label_transform(_label))\n",
    "        #label_list.append(_label)\n",
    "        tokens = text_transform(_text)\n",
    "        length_list.append(len(tokens))\n",
    "        processed_text = torch.LongTensor(tokens)\n",
    "        #processed_text = nn.ConstantPad1d((0, max_len - processed_text.shape[0]), 0)(processed_text)\n",
    "        text_list.append(processed_text)\n",
    "\n",
    "   # CHANGED\n",
    "   PAD_IDX = 0\n",
    "   return   pad_sequence(text_list, padding_value=PAD_IDX, batch_first=True), torch.LongTensor(label_list), torch.LongTensor(length_list)"
   ]
  },
  {
   "cell_type": "code",
   "execution_count": 7,
   "metadata": {
    "colab": {
     "base_uri": "https://localhost:8080/"
    },
    "id": "aLQzwOAcX9p9",
    "outputId": "90bfc596-dc72-42b4-95ff-af9a37212c11"
   },
   "outputs": [
    {
     "name": "stdout",
     "output_type": "stream",
     "text": [
      "Number of training examples: 3500\n",
      "Number of dev examples: 1500\n",
      "Number of test examples: 5000\n"
     ]
    }
   ],
   "source": [
    "batch_size = 5\n",
    "\n",
    "train_iterator = DataLoader(train_list, batch_size, shuffle=True,\n",
    "                              collate_fn=collate_batch, drop_last=True)\n",
    "valid_iterator = DataLoader(dev_list, batch_size, shuffle=False,\n",
    "                              collate_fn=collate_batch, drop_last=True)\n",
    "test_iterator = DataLoader(test_list, batch_size, shuffle=False,\n",
    "                              collate_fn=collate_batch, drop_last=True)\n",
    "print(f'Number of training examples: {len(train_iterator)}')\n",
    "print(f'Number of dev examples: {len(valid_iterator)}')\n",
    "print(f'Number of test examples: {len(test_iterator)}')"
   ]
  },
  {
   "cell_type": "code",
   "execution_count": 8,
   "metadata": {
    "colab": {
     "base_uri": "https://localhost:8080/"
    },
    "id": "t11Y-KsiX9hM",
    "outputId": "db0a5b8b-5f9a-474e-a539-7c6d0932e30d"
   },
   "outputs": [
    {
     "name": "stdout",
     "output_type": "stream",
     "text": [
      "GPU not available, CPU used\n"
     ]
    }
   ],
   "source": [
    "is_cuda = torch.cuda.is_available()\n",
    "\n",
    "# If we have a GPU available, we'll set our device to GPU. We'll use this device variable later in our code.\n",
    "if is_cuda:\n",
    "    device = torch.device(\"cuda\")\n",
    "    print(\"GPU is available\")\n",
    "else:\n",
    "    device = torch.device(\"cpu\")\n",
    "    print(\"GPU not available, CPU used\")"
   ]
  },
  {
   "cell_type": "code",
   "execution_count": 9,
   "metadata": {
    "id": "nI_gFLUXCEdY"
   },
   "outputs": [],
   "source": [
    "import torch.nn as nn\n",
    "class LSTM(nn.Module):\n",
    "    def __init__(\n",
    "        self,\n",
    "        vocab_size,\n",
    "        embedding_dim,\n",
    "        hidden_dim,\n",
    "        output_dim,\n",
    "        n_layers,\n",
    "        bidirectional,\n",
    "        dropout_rate,\n",
    "        pad_index,\n",
    "    ):\n",
    "        super().__init__()\n",
    "        self.embedding = nn.Embedding(vocab_size, embedding_dim, padding_idx=pad_index)\n",
    "        self.lstm = nn.LSTM(\n",
    "            embedding_dim,\n",
    "            hidden_dim,\n",
    "            n_layers,\n",
    "            bidirectional=bidirectional,\n",
    "            dropout=dropout_rate,\n",
    "            batch_first=True,\n",
    "        )\n",
    "        self.fc = nn.Linear(hidden_dim * 2 if bidirectional else hidden_dim, output_dim)\n",
    "        self.dropout = nn.Dropout(dropout_rate)\n",
    "\n",
    "    def forward(self, ids, length):\n",
    "        embedded = self.dropout(self.embedding(ids))\n",
    "        packed_embedded = nn.utils.rnn.pack_padded_sequence(\n",
    "            embedded, length, batch_first=True, enforce_sorted=False\n",
    "        )\n",
    "        packed_output, (hidden, cell) = self.lstm(packed_embedded)\n",
    "        output, output_length = nn.utils.rnn.pad_packed_sequence(packed_output)\n",
    "        if self.lstm.bidirectional:\n",
    "            hidden = self.dropout(torch.cat([hidden[-1], hidden[-2]], dim=-1))\n",
    "        else:\n",
    "            hidden = self.dropout(hidden[-1])\n",
    "        prediction = self.fc(hidden)\n",
    "        return prediction"
   ]
  },
  {
   "cell_type": "code",
   "execution_count": 10,
   "metadata": {
    "id": "-lZ2obDVDmEl"
   },
   "outputs": [],
   "source": [
    "INPUT_DIM = voc.__len__()\n",
    "EMBEDDING_DIM = 300\n",
    "# CHANGED\n",
    "HIDDEN_DIM = 300\n",
    "OUTPUT_DIM = 2 # num unique label values\n",
    "PAD_IDX = voc.__getitem__('<PAD>')\n",
    "n_layers = 2\n",
    "bidirectional = True\n",
    "dropout_rate = 0.5\n",
    "\n",
    "model = LSTM(\n",
    "    INPUT_DIM,\n",
    "    EMBEDDING_DIM,\n",
    "    HIDDEN_DIM,\n",
    "    OUTPUT_DIM,\n",
    "    n_layers,\n",
    "    bidirectional,\n",
    "    dropout_rate,\n",
    "    PAD_IDX\n",
    ")"
   ]
  },
  {
   "cell_type": "code",
   "execution_count": 11,
   "metadata": {
    "colab": {
     "base_uri": "https://localhost:8080/"
    },
    "id": "eJ6_rLRuK2l7",
    "outputId": "fa2abbcb-fba6-4ddd-8d6b-5d85a03ae092"
   },
   "outputs": [
    {
     "name": "stdout",
     "output_type": "stream",
     "text": [
      "The model has 11,110,802 trainable parameters\n"
     ]
    }
   ],
   "source": [
    "def count_parameters(model):\n",
    "    return sum(p.numel() for p in model.parameters() if p.requires_grad)\n",
    "\n",
    "print(f'The model has {count_parameters(model):,} trainable parameters')"
   ]
  },
  {
   "cell_type": "code",
   "execution_count": 12,
   "metadata": {
    "id": "IbufnJzvLAlf"
   },
   "outputs": [],
   "source": [
    "import torch.optim as optim\n",
    "\n",
    "lr = 5e-4\n",
    "\n",
    "optimizer = optim.Adam(model.parameters(), lr=lr)"
   ]
  },
  {
   "cell_type": "code",
   "execution_count": 13,
   "metadata": {
    "id": "I1fHORT8LBOK"
   },
   "outputs": [],
   "source": [
    "criterion = nn.CrossEntropyLoss()"
   ]
  },
  {
   "cell_type": "code",
   "execution_count": 14,
   "metadata": {
    "id": "z3gdBHHULC7y"
   },
   "outputs": [],
   "source": [
    "model = model.to(device)\n",
    "criterion = criterion.to(device)"
   ]
  },
  {
   "cell_type": "code",
   "execution_count": 15,
   "metadata": {
    "id": "KF2EdETnLEwt"
   },
   "outputs": [],
   "source": [
    "def get_accuracy(prediction, label):\n",
    "    batch_size, _ = prediction.shape\n",
    "    predicted_classes = prediction.argmax(dim=-1)\n",
    "    correct_predictions = predicted_classes.eq(label).sum()\n",
    "    accuracy = correct_predictions / batch_size\n",
    "    return accuracy"
   ]
  },
  {
   "cell_type": "code",
   "execution_count": 16,
   "metadata": {
    "id": "2o9l76H5LGm9"
   },
   "outputs": [],
   "source": [
    "from tqdm import tqdm\n",
    "def train(iterator, model, criterion, optimizer, device):\n",
    "    model.train()\n",
    "    epoch_losses = []\n",
    "    epoch_accs = []\n",
    "    for ids, label, length in tqdm(iterator, desc=\"training...\"):\n",
    "        prediction = model(ids.to(device), length)\n",
    "        loss = criterion(prediction, label.to(device))\n",
    "        accuracy = get_accuracy(prediction, label.to(device))\n",
    "        optimizer.zero_grad()\n",
    "        loss.backward()\n",
    "        optimizer.step()\n",
    "        epoch_losses.append(loss.item())\n",
    "        epoch_accs.append(accuracy.item())\n",
    "    return np.mean(epoch_losses), np.mean(epoch_accs)\n"
   ]
  },
  {
   "cell_type": "code",
   "execution_count": 17,
   "metadata": {
    "id": "bBwRhOrzLKSH"
   },
   "outputs": [],
   "source": [
    "def evaluate(iterator, model, criterion, device):\n",
    "    model.eval()\n",
    "    epoch_losses = []\n",
    "    epoch_accs = []\n",
    "    with torch.no_grad():\n",
    "        for ids, label, length in tqdm(iterator, desc=\"evaluating...\"):\n",
    "            prediction = model(ids.to(device), length)\n",
    "            loss = criterion(prediction, label.to(device))\n",
    "            accuracy = get_accuracy(prediction, label.to(device))\n",
    "            epoch_losses.append(loss.item())\n",
    "            epoch_accs.append(accuracy.item())\n",
    "    return np.mean(epoch_losses), np.mean(epoch_accs)\n"
   ]
  },
  {
   "cell_type": "code",
   "execution_count": 18,
   "metadata": {
    "id": "FOHkN5P5LMtl"
   },
   "outputs": [],
   "source": [
    "import time\n",
    "\n",
    "def epoch_time(start_time, end_time):\n",
    "    elapsed_time = end_time - start_time\n",
    "    elapsed_mins = int(elapsed_time / 60)\n",
    "    elapsed_secs = int(elapsed_time - (elapsed_mins * 60))\n",
    "    return elapsed_mins, elapsed_secs"
   ]
  },
  {
   "cell_type": "code",
   "execution_count": 19,
   "metadata": {
    "colab": {
     "base_uri": "https://localhost:8080/"
    },
    "id": "63EPftxxLOxH",
    "outputId": "8ad87999-d3fe-4403-8526-b9b56549da97"
   },
   "outputs": [
    {
     "name": "stderr",
     "output_type": "stream",
     "text": [
      "training...: 100%|███████████████████████████████████████████████████████| 3500/3500 [2:06:48<00:00,  2.17s/it]\n",
      "evaluating...: 100%|███████████████████████████████████████████████████████| 1500/1500 [03:13<00:00,  7.74it/s]\n"
     ]
    },
    {
     "name": "stdout",
     "output_type": "stream",
     "text": [
      "epoch: 0\n",
      "Epoch: 01 | Epoch Time: 130m 1s\n",
      "train_loss: 0.677, train_acc: 57.07%\n",
      "valid_loss: 0.620, valid_acc: 66.40%\n"
     ]
    },
    {
     "name": "stderr",
     "output_type": "stream",
     "text": [
      "training...: 100%|███████████████████████████████████████████████████████| 3500/3500 [2:12:14<00:00,  2.27s/it]\n",
      "evaluating...: 100%|███████████████████████████████████████████████████████| 1500/1500 [03:14<00:00,  7.69it/s]\n"
     ]
    },
    {
     "name": "stdout",
     "output_type": "stream",
     "text": [
      "epoch: 1\n",
      "Epoch: 02 | Epoch Time: 135m 29s\n",
      "train_loss: 0.599, train_acc: 67.50%\n",
      "valid_loss: 0.492, valid_acc: 75.49%\n"
     ]
    },
    {
     "name": "stderr",
     "output_type": "stream",
     "text": [
      "training...: 100%|███████████████████████████████████████████████████████| 3500/3500 [2:14:00<00:00,  2.30s/it]\n",
      "evaluating...: 100%|███████████████████████████████████████████████████████| 1500/1500 [03:15<00:00,  7.68it/s]\n"
     ]
    },
    {
     "name": "stdout",
     "output_type": "stream",
     "text": [
      "epoch: 2\n",
      "Epoch: 03 | Epoch Time: 137m 15s\n",
      "train_loss: 0.422, train_acc: 80.98%\n",
      "valid_loss: 0.327, valid_acc: 86.04%\n"
     ]
    },
    {
     "name": "stderr",
     "output_type": "stream",
     "text": [
      "training...: 100%|███████████████████████████████████████████████████████| 3500/3500 [2:13:16<00:00,  2.28s/it]\n",
      "evaluating...: 100%|███████████████████████████████████████████████████████| 1500/1500 [03:15<00:00,  7.67it/s]\n"
     ]
    },
    {
     "name": "stdout",
     "output_type": "stream",
     "text": [
      "epoch: 3\n",
      "Epoch: 04 | Epoch Time: 136m 31s\n",
      "train_loss: 0.322, train_acc: 86.45%\n",
      "valid_loss: 0.307, valid_acc: 87.73%\n"
     ]
    },
    {
     "name": "stderr",
     "output_type": "stream",
     "text": [
      "training...: 100%|███████████████████████████████████████████████████████| 3500/3500 [2:13:07<00:00,  2.28s/it]\n",
      "evaluating...: 100%|███████████████████████████████████████████████████████| 1500/1500 [03:13<00:00,  7.76it/s]"
     ]
    },
    {
     "name": "stdout",
     "output_type": "stream",
     "text": [
      "epoch: 4\n",
      "Epoch: 05 | Epoch Time: 136m 20s\n",
      "train_loss: 0.268, train_acc: 89.05%\n",
      "valid_loss: 0.293, valid_acc: 88.17%\n"
     ]
    },
    {
     "name": "stderr",
     "output_type": "stream",
     "text": [
      "\n"
     ]
    }
   ],
   "source": [
    "n_epochs = 5\n",
    "best_valid_loss = float(\"inf\")\n",
    "\n",
    "metrics = collections.defaultdict(list)\n",
    "\n",
    "for epoch in range(n_epochs):\n",
    "    start_time = time.time()\n",
    "    train_loss, train_acc = train(\n",
    "        train_iterator, model, criterion, optimizer, device\n",
    "    )\n",
    "    valid_loss, valid_acc = evaluate(valid_iterator, model, criterion, device)\n",
    "\n",
    "    end_time = time.time()\n",
    "    epoch_mins, epoch_secs = epoch_time(start_time, end_time)\n",
    "    \n",
    "    metrics[\"train_losses\"].append(train_loss)\n",
    "    metrics[\"train_accs\"].append(train_acc)\n",
    "    metrics[\"valid_losses\"].append(valid_loss)\n",
    "    metrics[\"valid_accs\"].append(valid_acc)\n",
    "    if valid_loss < best_valid_loss:\n",
    "        best_valid_loss = valid_loss\n",
    "        torch.save(model.state_dict(), \"lstm.pt\")\n",
    "    print(f\"epoch: {epoch}\")\n",
    "    print(f'Epoch: {epoch+1:02} | Epoch Time: {epoch_mins}m {epoch_secs}s')\n",
    "    print(f\"train_loss: {train_loss:.3f}, train_acc: {train_acc*100:.2f}%\")\n",
    "    print(f\"valid_loss: {valid_loss:.3f}, valid_acc: {valid_acc*100:.2f}%\")\n"
   ]
  },
  {
   "cell_type": "code",
   "execution_count": 20,
   "metadata": {
    "colab": {
     "base_uri": "https://localhost:8080/"
    },
    "id": "s2vQBjeTLTTv",
    "outputId": "e1ccad7a-bfb5-40c5-c069-af4075797688"
   },
   "outputs": [
    {
     "name": "stderr",
     "output_type": "stream",
     "text": [
      "evaluating...: 100%|███████████████████████████████████████████████████████| 5000/5000 [10:24<00:00,  8.01it/s]"
     ]
    },
    {
     "name": "stdout",
     "output_type": "stream",
     "text": [
      "Test Loss: 0.299 | Test Acc: 87.56%\n"
     ]
    },
    {
     "name": "stderr",
     "output_type": "stream",
     "text": [
      "\n"
     ]
    }
   ],
   "source": [
    "model.load_state_dict(torch.load('lstm.pt'))\n",
    "\n",
    "test_loss, test_acc = evaluate(test_iterator, model, criterion, device)\n",
    "\n",
    "print(f'Test Loss: {test_loss:.3f} | Test Acc: {test_acc*100:.2f}%')"
   ]
  },
  {
   "cell_type": "code",
   "execution_count": 21,
   "metadata": {
    "colab": {
     "base_uri": "https://localhost:8080/"
    },
    "id": "Ev4idwpONzs9",
    "outputId": "ab8de18e-d7de-4ab7-9d37-718ef401d3a1"
   },
   "outputs": [
    {
     "name": "stdout",
     "output_type": "stream",
     "text": [
      "tensor([0, 0, 1, 1, 1])\n",
      "tensor([0, 1, 0, 0, 1])\n",
      "tensor([1, 1, 0, 1, 0])\n",
      "tensor([1, 0, 0, 0, 1])\n",
      "tensor([1, 1, 1, 1, 1])\n"
     ]
    }
   ],
   "source": [
    "# Test of model correctness\n",
    "max_n_test_instances = 5\n",
    "i = 1\n",
    "for  ids, labels, length in valid_iterator:\n",
    "  score = model(ids.to(device), length)\n",
    "  print(score.argmax(dim=-1))\n",
    "  if i >= max_n_test_instances:\n",
    "    break\n",
    "  else:\n",
    "    i += 1\n"
   ]
  },
  {
   "cell_type": "code",
   "execution_count": 22,
   "metadata": {},
   "outputs": [],
   "source": [
    "def predict_sentiment(text, model, tokenizer, vocab, device):\n",
    "    #tokens = tokenizer(text)\n",
    "    #ids = vocab.lookup_indices(tokens)\n",
    "    ids = text_transform(text)\n",
    "    length = torch.LongTensor([len(ids)])\n",
    "    tensor = torch.LongTensor(ids).unsqueeze(dim=0).to(device)\n",
    "    prediction = model(tensor, length).squeeze(dim=0)\n",
    "    probability = torch.softmax(prediction, dim=-1)\n",
    "    predicted_class = prediction.argmax(dim=-1).item()\n",
    "    predicted_probability = probability[predicted_class].item()\n",
    "    return predicted_class, predicted_probability"
   ]
  },
  {
   "cell_type": "code",
   "execution_count": 23,
   "metadata": {},
   "outputs": [
    {
     "data": {
      "text/plain": [
       "(1, 0.9980506896972656)"
      ]
     },
     "execution_count": 23,
     "metadata": {},
     "output_type": "execute_result"
    }
   ],
   "source": [
    "text = \"This film is great!\"\n",
    "\n",
    "predict_sentiment(text, model, tokenizer, vocab, device)"
   ]
  },
  {
   "cell_type": "code",
   "execution_count": 24,
   "metadata": {},
   "outputs": [
    {
     "data": {
      "text/plain": [
       "(0, 0.986133873462677)"
      ]
     },
     "execution_count": 24,
     "metadata": {},
     "output_type": "execute_result"
    }
   ],
   "source": [
    "text = \"This film is terrible!\"\n",
    "\n",
    "predict_sentiment(text, model, tokenizer, vocab, device)"
   ]
  },
  {
   "cell_type": "code",
   "execution_count": null,
   "metadata": {},
   "outputs": [],
   "source": []
  }
 ],
 "metadata": {
  "accelerator": "GPU",
  "colab": {
   "gpuType": "T4",
   "provenance": []
  },
  "kernelspec": {
   "display_name": "Python 3 (ipykernel)",
   "language": "python",
   "name": "python3"
  },
  "language_info": {
   "codemirror_mode": {
    "name": "ipython",
    "version": 3
   },
   "file_extension": ".py",
   "mimetype": "text/x-python",
   "name": "python",
   "nbconvert_exporter": "python",
   "pygments_lexer": "ipython3",
   "version": "3.9.18"
  }
 },
 "nbformat": 4,
 "nbformat_minor": 4
}
